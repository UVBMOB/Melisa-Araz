{
 "cells": [
  {
   "cell_type": "code",
   "execution_count": 25,
   "metadata": {},
   "outputs": [],
   "source": [
    "from scipy.stats import binom\n",
    "import seaborn as sb\n",
    "import matplotlib.pyplot as plt\n",
    "\n",
    "class binomi():\n",
    "    def gen_data(self,n,p,size): \n",
    "        self.data = binom.rvs(n=n, p=p, size=size)\n",
    "        self.mean = self.data.mean()\n",
    "        self.std = self.data.std()\n",
    "    def display(self):\n",
    "        plot = sb.distplot(self.data)\n",
    "        plot.set(xlabel = 'Binomial',ylabel = 'Frequency')\n",
    "    def pmf(self,x,n,p):\n",
    "        return binom.pmf(x,n,p)    \n",
    "            \n",
    "\n",
    "example = binomi()\n",
    "example.gen_data(n=100, p=0.6, size=1000)\n",
    "example.display()\n",
    "print ('PMF: %.10f' %example.pmf(1000,100,0.8))\n"
   ]
  },
  {
   "cell_type": "code",
   "execution_count": null,
   "metadata": {},
   "outputs": [],
   "source": [
    "\n",
    "        "
   ]
  }
 ],
 "metadata": {
  "kernelspec": {
   "display_name": "Python 3",
   "language": "python",
   "name": "python3"
  },
  "language_info": {
   "codemirror_mode": {
    "name": "ipython",
    "version": 3
   },
   "file_extension": ".py",
   "mimetype": "text/x-python",
   "name": "python",
   "nbconvert_exporter": "python",
   "pygments_lexer": "ipython3",
   "version": "3.7.3"
  }
 },
 "nbformat": 4,
 "nbformat_minor": 2
}
